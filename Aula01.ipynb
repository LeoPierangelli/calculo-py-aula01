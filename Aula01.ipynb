{
  "nbformat": 4,
  "nbformat_minor": 0,
  "metadata": {
    "colab": {
      "provenance": [],
      "toc_visible": true,
      "authorship_tag": "ABX9TyPMIeic3IbgDMy8r7BOURBP",
      "include_colab_link": true
    },
    "kernelspec": {
      "name": "python3",
      "display_name": "Python 3"
    },
    "language_info": {
      "name": "python"
    }
  },
  "cells": [
    {
      "cell_type": "markdown",
      "metadata": {
        "id": "view-in-github",
        "colab_type": "text"
      },
      "source": [
        "<a href=\"https://colab.research.google.com/github/LeoPierangelli/calculo-py-aula01/blob/main/Aula01.ipynb\" target=\"_parent\"><img src=\"https://colab.research.google.com/assets/colab-badge.svg\" alt=\"Open In Colab\"/></a>"
      ]
    },
    {
      "cell_type": "markdown",
      "source": [
        "# Importação da biblioteca"
      ],
      "metadata": {
        "id": "m1uEDzRX2q8y"
      }
    },
    {
      "cell_type": "code",
      "execution_count": null,
      "metadata": {
        "id": "WEVyZn832Br-"
      },
      "outputs": [],
      "source": [
        "# import (função) sympy (nome da biblioteca) as (função de apelido) sy (nome do apelido)\n",
        "\n",
        "import sympy as sy\n"
      ]
    },
    {
      "cell_type": "markdown",
      "source": [
        "## Soma"
      ],
      "metadata": {
        "id": "2dCRc3VQ4GVF"
      }
    },
    {
      "cell_type": "code",
      "source": [
        "# Declaração de varável\n",
        "x = sy.Symbol ('x')\n",
        "# sy. (chamando a biblioteca) Symbol (função Symbol da biblioteca)"
      ],
      "metadata": {
        "id": "4tS5ciZ34KHU"
      },
      "execution_count": null,
      "outputs": []
    },
    {
      "cell_type": "code",
      "source": [
        "soma = (2*x + 9 + 6*x)\n",
        "soma"
      ],
      "metadata": {
        "colab": {
          "base_uri": "https://localhost:8080/",
          "height": 38
        },
        "id": "RcVbA-V94l-8",
        "outputId": "27fc551e-69e3-4138-ca39-f00fc6545e19"
      },
      "execution_count": null,
      "outputs": [
        {
          "output_type": "execute_result",
          "data": {
            "text/plain": [
              "8*x + 9"
            ],
            "text/latex": "$\\displaystyle 8 x + 9$"
          },
          "metadata": {},
          "execution_count": 38
        }
      ]
    },
    {
      "cell_type": "markdown",
      "source": [
        "## Produtos Notáveis"
      ],
      "metadata": {
        "id": "M8EsET0n55RF"
      }
    },
    {
      "cell_type": "code",
      "source": [
        "# Declaração de outras varáveis\n",
        "\n",
        "y = sy.Symbol ('y')\n",
        "z = sy.Symbol (\"z\")"
      ],
      "metadata": {
        "id": "p_BiQH6x6AAl"
      },
      "execution_count": null,
      "outputs": []
    },
    {
      "cell_type": "code",
      "source": [
        "# Distributiva (expansão)\n",
        "\n",
        "cerveja = (x + 2*y) * (6-2*z)\n",
        "\n",
        "sy.expand (cerveja)\n",
        "\n",
        "# sy.expand (comando de expansão do sy)\n",
        "# minha expressão vira uma variável\n"
      ],
      "metadata": {
        "colab": {
          "base_uri": "https://localhost:8080/",
          "height": 38
        },
        "id": "nWKGmKQF6Lf6",
        "outputId": "2c8c3f3d-1966-4cf6-9254-8005d2fe2448"
      },
      "execution_count": null,
      "outputs": [
        {
          "output_type": "execute_result",
          "data": {
            "text/plain": [
              "-2*x*z + 6*x - 4*y*z + 12*y"
            ],
            "text/latex": "$\\displaystyle - 2 x z + 6 x - 4 y z + 12 y$"
          },
          "metadata": {},
          "execution_count": 40
        }
      ]
    },
    {
      "cell_type": "code",
      "source": [
        "# Produto da soma pela diferença\n",
        "\n",
        "abacate = (x+y) * (x-y)\n",
        "sy.expand (abacate)\n"
      ],
      "metadata": {
        "colab": {
          "base_uri": "https://localhost:8080/",
          "height": 38
        },
        "id": "TgpIpo4h7M92",
        "outputId": "6fcde15a-ce5c-4675-8880-ef3676a0efa7"
      },
      "execution_count": null,
      "outputs": [
        {
          "output_type": "execute_result",
          "data": {
            "text/plain": [
              "x**2 - y**2"
            ],
            "text/latex": "$\\displaystyle x^{2} - y^{2}$"
          },
          "metadata": {},
          "execution_count": 41
        }
      ]
    },
    {
      "cell_type": "code",
      "source": [
        "# Quadrado da soma\n",
        "\n",
        "a = (x+y)**2\n",
        "asno = sy.expand (a)\n"
      ],
      "metadata": {
        "id": "PHgwSezb7iLd"
      },
      "execution_count": null,
      "outputs": []
    },
    {
      "cell_type": "code",
      "source": [
        "# Cubo da diferença\n",
        "\n",
        "jumento = (y-z)**3\n",
        "sy.expand (jumento)\n"
      ],
      "metadata": {
        "colab": {
          "base_uri": "https://localhost:8080/",
          "height": 38
        },
        "id": "qFTpAMVz8Nwu",
        "outputId": "c9ea30d0-cd2c-43a1-c223-caeaa01a42e5"
      },
      "execution_count": null,
      "outputs": [
        {
          "output_type": "execute_result",
          "data": {
            "text/plain": [
              "y**3 - 3*y**2*z + 3*y*z**2 - z**3"
            ],
            "text/latex": "$\\displaystyle y^{3} - 3 y^{2} z + 3 y z^{2} - z^{3}$"
          },
          "metadata": {},
          "execution_count": 43
        }
      ]
    },
    {
      "cell_type": "markdown",
      "source": [
        "## Fatoração"
      ],
      "metadata": {
        "id": "G2_ZMcEn8YBd"
      }
    },
    {
      "cell_type": "code",
      "source": [
        "# sy.factor\n",
        "\n",
        "banana = x**2 - 4\n",
        "sy.factor (banana)\n"
      ],
      "metadata": {
        "colab": {
          "base_uri": "https://localhost:8080/",
          "height": 38
        },
        "id": "9tHvN2zJ8aE9",
        "outputId": "2eac1449-b4b7-4f4f-b57b-3e26f58d0597"
      },
      "execution_count": null,
      "outputs": [
        {
          "output_type": "execute_result",
          "data": {
            "text/plain": [
              "(x - 2)*(x + 2)"
            ],
            "text/latex": "$\\displaystyle \\left(x - 2\\right) \\left(x + 2\\right)$"
          },
          "metadata": {},
          "execution_count": 44
        }
      ]
    },
    {
      "cell_type": "markdown",
      "source": [
        "## Divisão de polinômios"
      ],
      "metadata": {
        "id": "C0L0YGpK9TYe"
      }
    },
    {
      "cell_type": "code",
      "source": [
        "# sy.div\n",
        "\n",
        "sy.div (x**3 + x**2 + 2, x**2 + 2)"
      ],
      "metadata": {
        "colab": {
          "base_uri": "https://localhost:8080/"
        },
        "id": "i8L2-VPV9XiF",
        "outputId": "528432a8-8f8c-4a63-8cf9-eec4f0b402f2"
      },
      "execution_count": null,
      "outputs": [
        {
          "output_type": "execute_result",
          "data": {
            "text/plain": [
              "(x + 1, -2*x)"
            ]
          },
          "metadata": {},
          "execution_count": 45
        }
      ]
    },
    {
      "cell_type": "code",
      "source": [
        "# mais organizado\n",
        "\n",
        "quociente, resto = sy.div (x**3 + x**2 + 2, x**2 + 2)\n",
        "print(f'O quociente é: {quociente}')\n",
        "print(f'O resto é: {resto}')"
      ],
      "metadata": {
        "colab": {
          "base_uri": "https://localhost:8080/"
        },
        "id": "uyxbU_yA90kH",
        "outputId": "695fca77-15fe-4fbb-e6db-04632d914a32"
      },
      "execution_count": null,
      "outputs": [
        {
          "output_type": "stream",
          "name": "stdout",
          "text": [
            "O quociente é: x + 1\n",
            "O resto é: -2*x\n"
          ]
        }
      ]
    }
  ]
}